{
 "cells": [
  {
   "cell_type": "code",
   "execution_count": 2,
   "metadata": {},
   "outputs": [],
   "source": [
    "import mysql.connector\n",
    "from mysql.connector import errorcode\n",
    "import pandas as pd\n",
    "import numpy as np"
   ]
  },
  {
   "cell_type": "code",
   "execution_count": 3,
   "metadata": {},
   "outputs": [],
   "source": [
    "# Crear una función para cambiar los 'none' a None en un .csv.\n",
    "\n",
    "def remove_none (genre, start_page, end_page):\n",
    "    #1- leer csv\n",
    "    df = pd.read_csv(f'data/selenium_actors/list_{genre}_range_{start_page}_{end_page}_sel_actor.csv')\n",
    "    print (f\"data/selenium_actors/list_{genre}_range_{start_page}_{end_page}_sel_actor.csv opened\")\n",
    "    #2- localizar y sustituir 'none' por None\n",
    "    df[\"birth_year\"].replace(\"none\", None, inplace=True)\n",
    "    print (\"csv updated\")\n",
    "    #3 guardar el csv con mismo nombre (sobreescribirlo)\n",
    "    df.to_csv(f'data/selenium_actors/list_{genre}_range_{start_page}_{end_page}_sel_actor.csv')\n",
    "    print (f\"data/selenium_actors/list_{genre}_range_{start_page}_{end_page}_sel_actor.csv CREATED✅\")"
   ]
  },
  {
   "cell_type": "code",
   "execution_count": 4,
   "metadata": {},
   "outputs": [
    {
     "name": "stdout",
     "output_type": "stream",
     "text": [
      "Iteracion 1\n",
      "data/selenium_actors/list_action_range_1_2_sel_actor.csv opened\n",
      "csv updated\n",
      "data/selenium_actors/list_action_range_1_2_sel_actor.csv CREATED✅\n",
      "Iteracion 2\n",
      "data/selenium_actors/list_action_range_2_3_sel_actor.csv opened\n",
      "csv updated\n",
      "data/selenium_actors/list_action_range_2_3_sel_actor.csv CREATED✅\n",
      "Iteracion 3\n",
      "data/selenium_actors/list_action_range_3_4_sel_actor.csv opened\n",
      "csv updated\n",
      "data/selenium_actors/list_action_range_3_4_sel_actor.csv CREATED✅\n",
      "Iteracion 4\n",
      "data/selenium_actors/list_action_range_4_5_sel_actor.csv opened\n",
      "csv updated\n",
      "data/selenium_actors/list_action_range_4_5_sel_actor.csv CREATED✅\n"
     ]
    }
   ],
   "source": [
    "# execute the function to clean the files\n",
    "\n",
    "genre = 'action'\n",
    "start_page = 1\n",
    "end_page = 5\n",
    "\n",
    "for i in range(start_page, end_page):\n",
    "    print(f\"Iteracion {i}\")\n",
    "    remove_none (genre, i, i+1)"
   ]
  },
  {
   "cell_type": "code",
   "execution_count": null,
   "metadata": {},
   "outputs": [],
   "source": [
    "# Function to insert 'list_oscars_BS' into the 'oscars' table.\n",
    "def insert_oscars():\n",
    "    # Connection\n",
    "    cnx = mysql.connector.connect(user='root', password='AlumnaAdalab', host='127.0.0.1', database='cinem_extract')\n",
    "\n",
    "    # Cursor creation\n",
    "    mycursor = cnx.cursor()\n",
    "\n",
    "    try: \n",
    "        # Read CSV file\n",
    "        df = pd.read_csv('data/oscars/list_oscars_BS.csv') \n",
    "\n",
    "        # SQL to insert data. You must indicate the name of the columns in the first parenthesis and in values enter the number of columns with %s\n",
    "        sql_insert_query = \"\"\" INSERT INTO oscars (ceremony_year, best_movie, best_director, best_actor, best_actress) VALUES (%s, %s, %s, %s, %s)\"\"\"\n",
    "\n",
    "        # Iterate over each row of the DataFrame and insert the data for each column.\n",
    "        for _, row in df.iterrows():\n",
    "            mycursor.execute(sql_insert_query, (row['ceremony_year'], row['best_movie'], row['best_director'], row['best_actor'], row['best_actress'])) \n",
    "\n",
    "        # Confirm changes with commit\n",
    "        cnx.commit() \n",
    "        print(f\"{mycursor.rowcount} registro(s) insertado(s)📝\") \n",
    "\n",
    "    except mysql.connector.Error as err: \n",
    "        print(f\"Error al insertar en la base de datos: {err} ❌\") \n",
    "\n",
    "    finally: \n",
    "        if cnx.is_connected(): \n",
    "            mycursor.close() \n",
    "            cnx.close() \n",
    "            print(\"Conexión a la base de datos cerrada🔚\")"
   ]
  },
  {
   "cell_type": "code",
   "execution_count": null,
   "metadata": {},
   "outputs": [],
   "source": [
    "# call the insert function for the oscars table\n",
    "insert_oscars()"
   ]
  },
  {
   "cell_type": "code",
   "execution_count": null,
   "metadata": {},
   "outputs": [],
   "source": [
    "# Function to insert the data into 'actor_details' table.\n",
    "# IMPORTANT: it must be inserted before the 'actor_awards' table because to create its connections it needs to be already in the 'actor_awards' table.\n",
    "\n",
    "\n",
    "def insert_actor_details(genre, start_page, end_page):\n",
    "    cnx = mysql.connector.connect(user='root', password='AlumnaAdalab', host='127.0.0.1', database='cinem_extract')\n",
    "\n",
    "    mycursor = cnx.cursor()\n",
    "\n",
    "    try: \n",
    "        df = pd.read_csv(f'data/selenium_actors/list_{genre}_range_{start_page}_{end_page}_sel_actor.csv') # The CSV has an 'only' to distinguish temporary data.\n",
    "\n",
    "        sql_insert_query = \"\"\" \n",
    "        INSERT INTO actor_details (actor_name, birth_year, known_for, actor_role, actor_awards)\n",
    "        VALUES (%s, %s, %s, %s, %s) \n",
    "        ON DUPLICATE KEY UPDATE \n",
    "            actor_name = VALUES(actor_name),\n",
    "            birth_year = VALUES(birth_year),\n",
    "            known_for = VALUES(known_for),\n",
    "            actor_role = VALUES(actor_role),\n",
    "            actor_awards = VALUES(actor_awards)\"\"\" # We enter only one column value. It is temporary until we update it.\n",
    "\n",
    "        for _, row in df.iterrows():\n",
    "            mycursor.execute(sql_insert_query, (row['actor_name'],row['birth_year'],row['known_for'],row['actor_role'],row['actor_awards'])) \n",
    "\n",
    "        cnx.commit() \n",
    "        print(f\"{mycursor.rowcount} registro(s) insertado(s)📝\") \n",
    "\n",
    "    except mysql.connector.Error as err: \n",
    "        print(f\"Error al insertar en la base de datos: {err} ❌\") \n",
    "\n",
    "    finally: \n",
    "        if cnx.is_connected(): \n",
    "            mycursor.close() \n",
    "            cnx.close() \n",
    "            print(\"Conexión a la base de datos cerrada🔚\")"
   ]
  },
  {
   "cell_type": "code",
   "execution_count": null,
   "metadata": {},
   "outputs": [],
   "source": [
    "# call the insert function for the oscars table\n",
    "genre = 'action'\n",
    "start_page = 1\n",
    "end_page = 2\n",
    "\n",
    "for i in range(start_page, end_page):\n",
    "    print(f\"Iteracion {i}\")\n",
    "    insert_actor_details(genre, i, i+1)\n",
    "    "
   ]
  },
  {
   "cell_type": "code",
   "execution_count": null,
   "metadata": {},
   "outputs": [],
   "source": [
    "# Function to insert the data from 'actor_awards.csv' into the 'actor_awards' table. \n",
    "# It will not work if we don't have data in the 'actor_details' table.\n",
    "def insert_actor_awards():\n",
    "    cnx = mysql.connector.connect(user='root', password='AlumnaAdalab', host='127.0.0.1', database='cinem_extract')\n",
    "\n",
    "    mycursor = cnx.cursor()\n",
    "\n",
    "    try: \n",
    "        df = pd.read_csv('data/oscars/actor_awards.csv')\n",
    "    \n",
    "        sql_insert_query = \"\"\" INSERT INTO actor_awards (actor_name, ceremony_year, award_type) VALUES (%s, %s, %s)\"\"\"\n",
    "\n",
    "        for _, row in df.iterrows():\n",
    "            mycursor.execute(sql_insert_query, (row['actor_name'], row['ceremony_year'], row['award_type'])) \n",
    "\n",
    "        cnx.commit() \n",
    "        print(f\"{mycursor.rowcount} registro(s) insertado(s)📝\") \n",
    "\n",
    "    except mysql.connector.Error as err: \n",
    "        print(f\"Error al insertar en la base de datos: {err} ❌\") \n",
    "\n",
    "    finally: \n",
    "        if cnx.is_connected(): \n",
    "            mycursor.close() \n",
    "            cnx.close() \n",
    "            print(\"Conexión a la base de datos cerrada🔚\")"
   ]
  },
  {
   "cell_type": "code",
   "execution_count": null,
   "metadata": {},
   "outputs": [],
   "source": [
    "# call the insert function for the oscars table\n",
    "insert_actor_awards()"
   ]
  },
  {
   "cell_type": "code",
   "execution_count": null,
   "metadata": {},
   "outputs": [],
   "source": [
    "# insert data into relation_movie_oscars\n",
    "\n",
    "def insert_relation_movie_oscars():\n",
    "    # Connection\n",
    "    cnx = mysql.connector.connect(user='root', password='AlumnaAdalab', host='127.0.0.1', database='cinem_extract')\n",
    "\n",
    "    # Cursor creation\n",
    "    mycursor = cnx.cursor()\n",
    "\n",
    "    try: \n",
    "        # Read CSV file\n",
    "        df = pd.read_csv('data/oscars/relation_movie_oscars.csv')\n",
    "\n",
    "        # SQL to insert data. You must indicate the name of the columns in the first parenthesis and in values enter the number of columns with %s\n",
    "        sql_insert_query = \"\"\" INSERT INTO relation_movie_oscars (id_imdb, best_movie, ceremony_year) VALUES (%s, %s, %s)\"\"\"\n",
    "\n",
    "        # Iterate over each row of the DataFrame and insert the data for each column.\n",
    "        for _, row in df.iterrows():\n",
    "            mycursor.execute(sql_insert_query, (row['id_imdb'], row['best_movie'], row['ceremony_year'])) \n",
    "\n",
    "        # Confirm changes with commit\n",
    "        cnx.commit() \n",
    "        print(f\"{mycursor.rowcount} registro(s) insertado(s)📝\")\n",
    "\n",
    "    except mysql.connector.Error as err:\n",
    "        print(f\"Error al insertar en la base de datos: {err} ❌\") \n",
    "\n",
    "    finally: \n",
    "        if cnx.is_connected(): \n",
    "            mycursor.close() \n",
    "            cnx.close() \n",
    "            print(\"Conexión a la base de datos cerrada🔚\")\n"
   ]
  },
  {
   "cell_type": "code",
   "execution_count": null,
   "metadata": {},
   "outputs": [],
   "source": [
    "# call the insert function for relation_movie_oscars\n",
    "\n",
    "insert_relation_movie_oscars()"
   ]
  }
 ],
 "metadata": {
  "kernelspec": {
   "display_name": "base",
   "language": "python",
   "name": "python3"
  },
  "language_info": {
   "codemirror_mode": {
    "name": "ipython",
    "version": 3
   },
   "file_extension": ".py",
   "mimetype": "text/x-python",
   "name": "python",
   "nbconvert_exporter": "python",
   "pygments_lexer": "ipython3",
   "version": "3.9.12"
  }
 },
 "nbformat": 4,
 "nbformat_minor": 2
}
