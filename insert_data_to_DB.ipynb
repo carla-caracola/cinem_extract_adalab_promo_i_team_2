{
 "cells": [
  {
   "cell_type": "code",
   "execution_count": 1,
   "metadata": {},
   "outputs": [],
   "source": [
    "import mysql.connector\n",
    "from mysql.connector import errorcode\n",
    "import pandas as pd\n",
    "import numpy as np"
   ]
  },
  {
   "cell_type": "code",
   "execution_count": 28,
   "metadata": {},
   "outputs": [
    {
     "name": "stdout",
     "output_type": "stream",
     "text": [
      "Valores nulos (None):\n",
      "     actor_name  birth_year  known_for  actor_role  actor_awards\n",
      "0         False       False      False       False          True\n",
      "1         False       False      False       False          True\n",
      "2         False       False      False       False          True\n",
      "3         False       False      False       False          True\n",
      "4         False       False      False       False          True\n",
      "..          ...         ...        ...         ...           ...\n",
      "333       False       False      False       False          True\n",
      "334       False       False      False       False          True\n",
      "335       False       False      False       False          True\n",
      "336       False       False      False       False          True\n",
      "337       False       False      False       False          True\n",
      "\n",
      "[338 rows x 5 columns]\n",
      "               actor_name birth_year  \\\n",
      "0             Kento Handa       none   \n",
      "1              Yuria Haga       none   \n",
      "2           Rumika Fukuda       none   \n",
      "3           Daiji Asakawa       none   \n",
      "4            Rui Yanagawa       none   \n",
      "..                    ...        ...   \n",
      "333              Juva Das       none   \n",
      "334             Dujananth       none   \n",
      "335             Prabilash       none   \n",
      "336               Sakanan       none   \n",
      "337  Dojishan Thevathasan       none   \n",
      "\n",
      "                                             known_for  \\\n",
      "0    Gekijôban Kamen Raidâ 555: Paradaisu rosuto, S...   \n",
      "1    Gekijôban Kamen Raidâ 555: Paradaisu rosuto, K...   \n",
      "2    Kamen Rider 555 20th: Paradise Regained, One-P...   \n",
      "3    Papa ga Mo Ichido Koi wo Shita, Kamen Rider 55...   \n",
      "4    Kamen Rider 555 20th: Paradise Regained, Kamen...   \n",
      "..                                                 ...   \n",
      "333                                            Unknown   \n",
      "334                                            Unknown   \n",
      "335                                            Unknown   \n",
      "336                       Unknown, Modern Insta Kadhal   \n",
      "337  \"Im Standing in the Shadow\", Sometime - Sound ...   \n",
      "\n",
      "                                     actor_role actor_awards  \n",
      "0                                       Reparto         None  \n",
      "1                                       Reparto         None  \n",
      "2                                       Reparto         None  \n",
      "3                                       Reparto         None  \n",
      "4                                       Reparto         None  \n",
      "..                                          ...          ...  \n",
      "333  Reparto,  Dirección de fotografía y cámara         None  \n",
      "334                                     Reparto         None  \n",
      "335                                     Reparto         None  \n",
      "336                                     Reparto         None  \n",
      "337                 Dirección,  Guion,  Reparto         None  \n",
      "\n",
      "[338 rows x 5 columns]\n"
     ]
    }
   ],
   "source": [
    "#Crear un archivo para cambiar los 'none' a None.\n",
    "#1- leer csv\n",
    "df = pd.read_csv('data/selenium_actors/list_action_range_2_3_sel_actor.csv') \n",
    "df\n",
    "#2- localizar los 'none'\n",
    "null_values = df.isnull() \n",
    "\n",
    "print(\"Valores nulos (None):\") \n",
    "print(null_values)\n",
    "\n",
    "#3- sustituir 'none' por None\n",
    "df_filled = df.fillna('None')\n",
    "print(df_filled)\n",
    "#4 guardar el csv con mismo nombre (sobreescribirlo)"
   ]
  },
  {
   "cell_type": "code",
   "execution_count": 2,
   "metadata": {},
   "outputs": [],
   "source": [
    "# Function to insert 'list_oscars_BS' into the 'oscars' table.\n",
    "def insert_oscars():\n",
    "    # Connection\n",
    "    cnx = mysql.connector.connect(user='root', password='AlumnaAdalab', host='127.0.0.1', database='cinem_extract')\n",
    "\n",
    "    # Cursor creation\n",
    "    mycursor = cnx.cursor()\n",
    "\n",
    "    try: \n",
    "        # Read CSV file\n",
    "        df = pd.read_csv('data/oscars/list_oscars_BS.csv') \n",
    "\n",
    "        # SQL to insert data. You must indicate the name of the columns in the first parenthesis and in values enter the number of columns with %s\n",
    "        sql_insert_query = \"\"\" INSERT INTO oscars (ceremony_year, best_movie, best_director, best_actor, best_actress) VALUES (%s, %s, %s, %s, %s)\"\"\"\n",
    "\n",
    "        # Iterate over each row of the DataFrame and insert the data for each column.\n",
    "        for _, row in df.iterrows():\n",
    "            mycursor.execute(sql_insert_query, (row['ceremony_year'], row['best_movie'], row['best_director'], row['best_actor'], row['best_actress'])) \n",
    "\n",
    "        # Confirm changes with commit\n",
    "        cnx.commit() \n",
    "        print(f\"{mycursor.rowcount} registro(s) insertado(s)📝\") \n",
    "\n",
    "    except mysql.connector.Error as err: \n",
    "        print(f\"Error al insertar en la base de datos: {err} ❌\") \n",
    "\n",
    "    finally: \n",
    "        if cnx.is_connected(): \n",
    "            mycursor.close() \n",
    "            cnx.close() \n",
    "            print(\"Conexión a la base de datos cerrada🔚\")"
   ]
  },
  {
   "cell_type": "code",
   "execution_count": 3,
   "metadata": {},
   "outputs": [
    {
     "name": "stdout",
     "output_type": "stream",
     "text": [
      "1 registro(s) insertado(s)📝\n",
      "Conexión a la base de datos cerrada🔚\n"
     ]
    }
   ],
   "source": [
    "# call the insert function for the oscars table\n",
    "insert_oscars()"
   ]
  },
  {
   "cell_type": "code",
   "execution_count": 22,
   "metadata": {},
   "outputs": [],
   "source": [
    "# Function to insert the data into 'actor_details' table.\n",
    "# IMPORTANT: it must be inserted before the 'actor_awards' table because to create its connections it needs to be already in the 'actor_awards' table.\n",
    "\n",
    "\n",
    "def insert_actor_details(genre, start_page, end_page):\n",
    "    cnx = mysql.connector.connect(user='root', password='AlumnaAdalab', host='127.0.0.1', database='cinem_extract')\n",
    "\n",
    "    mycursor = cnx.cursor()\n",
    "\n",
    "    try: \n",
    "        df = pd.read_csv(f'data/selenium_actors/list_{genre}_range_{start_page}_{end_page}_sel_actor.csv') # The CSV has an 'only' to distinguish temporary data.\n",
    "\n",
    "        sql_insert_query = \"\"\" \n",
    "        INSERT INTO actor_details (actor_name, birth_year, known_for, actor_role, actor_awards)\n",
    "        VALUES (%s, %s, %s, %s, %s) \n",
    "        ON DUPLICATE KEY UPDATE \n",
    "            actor_name = VALUES(actor_name),\n",
    "            birth_year = VALUES(birth_year),\n",
    "            known_for = VALUES(known_for),\n",
    "            actor_role = VALUES(actor_role),\n",
    "            actor_awards = VALUES(actor_awards)\"\"\" # We enter only one column value. It is temporary until we update it.\n",
    "\n",
    "        for _, row in df.iterrows():\n",
    "            mycursor.execute(sql_insert_query, (row['actor_name'],row['birth_year'],row['known_for'],row['actor_role'],row['actor_awards'])) \n",
    "\n",
    "        cnx.commit() \n",
    "        print(f\"{mycursor.rowcount} registro(s) insertado(s)📝\") \n",
    "\n",
    "    except mysql.connector.Error as err: \n",
    "        print(f\"Error al insertar en la base de datos: {err} ❌\") \n",
    "\n",
    "    finally: \n",
    "        if cnx.is_connected(): \n",
    "            mycursor.close() \n",
    "            cnx.close() \n",
    "            print(\"Conexión a la base de datos cerrada🔚\")"
   ]
  },
  {
   "cell_type": "code",
   "execution_count": 23,
   "metadata": {},
   "outputs": [
    {
     "name": "stdout",
     "output_type": "stream",
     "text": [
      "Iteracion 1\n",
      "1 registro(s) insertado(s)📝\n",
      "Conexión a la base de datos cerrada🔚\n"
     ]
    }
   ],
   "source": [
    "# call the insert function for the oscars table\n",
    "genre = 'action'\n",
    "start_page = 1\n",
    "end_page = 2\n",
    "\n",
    "for i in range(start_page, end_page):\n",
    "    print(f\"Iteracion {i}\")\n",
    "    insert_actor_details(genre, i, i+1)\n",
    "    "
   ]
  },
  {
   "cell_type": "code",
   "execution_count": 17,
   "metadata": {},
   "outputs": [],
   "source": [
    "# Function to insert the data from 'actor_awards.csv' into the 'actor_awards' table. \n",
    "# It will not work if we don't have data in the 'actor_details' table.\n",
    "def insert_actor_awards():\n",
    "    cnx = mysql.connector.connect(user='root', password='AlumnaAdalab', host='127.0.0.1', database='cinem_extract')\n",
    "\n",
    "    mycursor = cnx.cursor()\n",
    "\n",
    "    try: \n",
    "        df = pd.read_csv('data/oscars/actor_awards.csv')\n",
    "    \n",
    "        sql_insert_query = \"\"\" INSERT INTO actor_awards (actor_name, ceremony_year, award_type) VALUES (%s, %s, %s)\"\"\"\n",
    "\n",
    "        for _, row in df.iterrows():\n",
    "            mycursor.execute(sql_insert_query, (row['actor_name'], row['ceremony_year'], row['award_type'])) \n",
    "\n",
    "        cnx.commit() \n",
    "        print(f\"{mycursor.rowcount} registro(s) insertado(s)📝\") \n",
    "\n",
    "    except mysql.connector.Error as err: \n",
    "        print(f\"Error al insertar en la base de datos: {err} ❌\") \n",
    "\n",
    "    finally: \n",
    "        if cnx.is_connected(): \n",
    "            mycursor.close() \n",
    "            cnx.close() \n",
    "            print(\"Conexión a la base de datos cerrada🔚\")"
   ]
  },
  {
   "cell_type": "code",
   "execution_count": 18,
   "metadata": {},
   "outputs": [
    {
     "name": "stdout",
     "output_type": "stream",
     "text": [
      "1 registro(s) insertado(s)📝\n",
      "Conexión a la base de datos cerrada🔚\n"
     ]
    }
   ],
   "source": [
    "# call the insert function for the oscars table\n",
    "insert_actor_awards()"
   ]
  },
  {
   "cell_type": "code",
   "execution_count": null,
   "metadata": {},
   "outputs": [],
   "source": [
    "# insert data into relation_movie_oscars\n",
    "\n",
    "def insert_relation_movie_oscars():\n",
    "    # Connection\n",
    "    cnx = mysql.connector.connect(user='root', password='AlumnaAdalab', host='127.0.0.1', database='cinem_extract')\n",
    "\n",
    "    # Cursor creation\n",
    "    mycursor = cnx.cursor()\n",
    "\n",
    "    try: \n",
    "        # Read CSV file\n",
    "        df = pd.read_csv('data/oscars/relation_movie_oscars.csv')\n",
    "\n",
    "        # SQL to insert data. You must indicate the name of the columns in the first parenthesis and in values enter the number of columns with %s\n",
    "        sql_insert_query = \"\"\" INSERT INTO relation_movie_oscars (id_imdb, best_movie, ceremony_year) VALUES (%s, %s, %s)\"\"\"\n",
    "\n",
    "        # Iterate over each row of the DataFrame and insert the data for each column.\n",
    "        for _, row in df.iterrows():\n",
    "            mycursor.execute(sql_insert_query, (row['id_imdb'], row['best_movie'], row['ceremony_year'])) \n",
    "\n",
    "        # Confirm changes with commit\n",
    "        cnx.commit() \n",
    "        print(f\"{mycursor.rowcount} registro(s) insertado(s)📝\")\n",
    "\n",
    "    except mysql.connector.Error as err:\n",
    "        print(f\"Error al insertar en la base de datos: {err} ❌\") \n",
    "\n",
    "    finally: \n",
    "        if cnx.is_connected(): \n",
    "            mycursor.close() \n",
    "            cnx.close() \n",
    "            print(\"Conexión a la base de datos cerrada🔚\")\n"
   ]
  },
  {
   "cell_type": "code",
   "execution_count": null,
   "metadata": {},
   "outputs": [],
   "source": [
    "# call the insert function for relation_movie_oscars\n",
    "\n",
    "insert_relation_movie_oscars()"
   ]
  }
 ],
 "metadata": {
  "kernelspec": {
   "display_name": "base",
   "language": "python",
   "name": "python3"
  },
  "language_info": {
   "codemirror_mode": {
    "name": "ipython",
    "version": 3
   },
   "file_extension": ".py",
   "mimetype": "text/x-python",
   "name": "python",
   "nbconvert_exporter": "python",
   "pygments_lexer": "ipython3",
   "version": "3.11.9"
  }
 },
 "nbformat": 4,
 "nbformat_minor": 2
}
