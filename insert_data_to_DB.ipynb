{
 "cells": [
  {
   "cell_type": "code",
   "execution_count": 1,
   "metadata": {},
   "outputs": [],
   "source": [
    "import mysql.connector\n",
    "from mysql.connector import errorcode\n",
    "import pandas as pd\n",
    "import numpy as np"
   ]
  },
  {
   "cell_type": "code",
   "execution_count": 2,
   "metadata": {},
   "outputs": [],
   "source": [
    "# Function to insert 'list_oscars_BS' into the 'oscars' table.\n",
    "def insert_oscars():\n",
    "    # Connection\n",
    "    cnx = mysql.connector.connect(user='root', password='AlumnaAdalab', host='127.0.0.1', database='cinem_extract')\n",
    "\n",
    "    # Cursor creation\n",
    "    mycursor = cnx.cursor()\n",
    "\n",
    "    try: \n",
    "        # Read CSV file\n",
    "        df = pd.read_csv('data/oscars/list_oscars_BS.csv') \n",
    "\n",
    "        # SQL to insert data. You must indicate the name of the columns in the first parenthesis and in values enter the number of columns with %s\n",
    "        sql_insert_query = \"\"\" INSERT INTO oscars (ceremony_year, best_movie, best_director, best_actor, best_actress) VALUES (%s, %s, %s, %s, %s)\"\"\"\n",
    "\n",
    "        # Iterate over each row of the DataFrame and insert the data for each column.\n",
    "        for _, row in df.iterrows():\n",
    "            mycursor.execute(sql_insert_query, (row['ceremony_year'], row['best_movie'], row['best_director'], row['best_actor'], row['best_actress'])) \n",
    "\n",
    "        # Confirm changes with commit\n",
    "        cnx.commit() \n",
    "        print(f\"{mycursor.rowcount} registro(s) insertado(s)📝\") \n",
    "\n",
    "    except mysql.connector.Error as err: \n",
    "        print(f\"Error al insertar en la base de datos: {err} ❌\") \n",
    "\n",
    "    finally: \n",
    "        if cnx.is_connected(): \n",
    "            mycursor.close() \n",
    "            cnx.close() \n",
    "            print(\"Conexión a la base de datos cerrada🔚\")"
   ]
  },
  {
   "cell_type": "code",
   "execution_count": 3,
   "metadata": {},
   "outputs": [
    {
     "name": "stdout",
     "output_type": "stream",
     "text": [
      "1 registro(s) insertado(s)📝\n",
      "Conexión a la base de datos cerrada🔚\n"
     ]
    }
   ],
   "source": [
    "# call the insert function for the oscars table\n",
    "insert_oscars()"
   ]
  },
  {
   "cell_type": "code",
   "execution_count": 15,
   "metadata": {},
   "outputs": [],
   "source": [
    "# Function to insert the data into 'actor_details' table.\n",
    "# IMPORTANT: it must be inserted before the 'actor_awards' table because to create its connections it needs to be already in the 'actor_awards' table.\n",
    "\n",
    "\n",
    "def insert_actor_details(genre, start_page, end_page):\n",
    "    cnx = mysql.connector.connect(user='root', password='AlumnaAdalab', host='127.0.0.1', database='cinem_extract')\n",
    "\n",
    "    mycursor = cnx.cursor()\n",
    "\n",
    "    try: \n",
    "        df = pd.read_csv(f'data/selenium_actors/list_{genre}_range_{start_page}_{end_page}_sel_actor.csv') # The CSV has an 'only' to distinguish temporary data.\n",
    "\n",
    "        sql_insert_query = \"\"\" INSERT INTO actor_details (actor_name, birth_year, known_for, actor_role, actor_awards) VALUES (%s, %s, %s, %s, %s)\"\"\" # We enter only one column value. It is temporary until we update it.\n",
    "\n",
    "        for _, row in df.iterrows():\n",
    "            mycursor.execute(sql_insert_query, (row['actor_name'],row['birth_year'],row['known_for'],row['actor_role'],row['actor_awards'])) \n",
    "\n",
    "        cnx.commit() \n",
    "        print(f\"{mycursor.rowcount} registro(s) insertado(s)📝\") \n",
    "\n",
    "    except mysql.connector.Error as err: \n",
    "        print(f\"Error al insertar en la base de datos: {err} ❌\") \n",
    "\n",
    "    finally: \n",
    "        if cnx.is_connected(): \n",
    "            mycursor.close() \n",
    "            cnx.close() \n",
    "            print(\"Conexión a la base de datos cerrada🔚\")"
   ]
  },
  {
   "cell_type": "code",
   "execution_count": 16,
   "metadata": {},
   "outputs": [
    {
     "name": "stdout",
     "output_type": "stream",
     "text": [
      "Iteracion 1\n",
      "Conexión a la base de datos cerrada🔚\n"
     ]
    },
    {
     "ename": "KeyError",
     "evalue": "'known_for'",
     "output_type": "error",
     "traceback": [
      "\u001b[1;31m---------------------------------------------------------------------------\u001b[0m",
      "\u001b[1;31mKeyError\u001b[0m                                  Traceback (most recent call last)",
      "File \u001b[1;32m~\\AppData\\Local\\Packages\\PythonSoftwareFoundation.Python.3.11_qbz5n2kfra8p0\\LocalCache\\local-packages\\Python311\\site-packages\\pandas\\core\\indexes\\base.py:3805\u001b[0m, in \u001b[0;36mIndex.get_loc\u001b[1;34m(self, key)\u001b[0m\n\u001b[0;32m   3804\u001b[0m \u001b[38;5;28;01mtry\u001b[39;00m:\n\u001b[1;32m-> 3805\u001b[0m     \u001b[38;5;28;01mreturn\u001b[39;00m \u001b[38;5;28;43mself\u001b[39;49m\u001b[38;5;241;43m.\u001b[39;49m\u001b[43m_engine\u001b[49m\u001b[38;5;241;43m.\u001b[39;49m\u001b[43mget_loc\u001b[49m\u001b[43m(\u001b[49m\u001b[43mcasted_key\u001b[49m\u001b[43m)\u001b[49m\n\u001b[0;32m   3806\u001b[0m \u001b[38;5;28;01mexcept\u001b[39;00m \u001b[38;5;167;01mKeyError\u001b[39;00m \u001b[38;5;28;01mas\u001b[39;00m err:\n",
      "File \u001b[1;32mindex.pyx:167\u001b[0m, in \u001b[0;36mpandas._libs.index.IndexEngine.get_loc\u001b[1;34m()\u001b[0m\n",
      "File \u001b[1;32mindex.pyx:196\u001b[0m, in \u001b[0;36mpandas._libs.index.IndexEngine.get_loc\u001b[1;34m()\u001b[0m\n",
      "File \u001b[1;32mpandas\\\\_libs\\\\hashtable_class_helper.pxi:7081\u001b[0m, in \u001b[0;36mpandas._libs.hashtable.PyObjectHashTable.get_item\u001b[1;34m()\u001b[0m\n",
      "File \u001b[1;32mpandas\\\\_libs\\\\hashtable_class_helper.pxi:7089\u001b[0m, in \u001b[0;36mpandas._libs.hashtable.PyObjectHashTable.get_item\u001b[1;34m()\u001b[0m\n",
      "\u001b[1;31mKeyError\u001b[0m: 'known_for'",
      "\nThe above exception was the direct cause of the following exception:\n",
      "\u001b[1;31mKeyError\u001b[0m                                  Traceback (most recent call last)",
      "Cell \u001b[1;32mIn[16], line 8\u001b[0m\n\u001b[0;32m      6\u001b[0m \u001b[38;5;28;01mfor\u001b[39;00m i \u001b[38;5;129;01min\u001b[39;00m \u001b[38;5;28mrange\u001b[39m(start_page, end_page):\n\u001b[0;32m      7\u001b[0m     \u001b[38;5;28mprint\u001b[39m(\u001b[38;5;124mf\u001b[39m\u001b[38;5;124m\"\u001b[39m\u001b[38;5;124mIteracion \u001b[39m\u001b[38;5;132;01m{\u001b[39;00mi\u001b[38;5;132;01m}\u001b[39;00m\u001b[38;5;124m\"\u001b[39m)\n\u001b[1;32m----> 8\u001b[0m     \u001b[43minsert_actor_details\u001b[49m\u001b[43m(\u001b[49m\u001b[43mgenre\u001b[49m\u001b[43m,\u001b[49m\u001b[43m \u001b[49m\u001b[43mi\u001b[49m\u001b[43m,\u001b[49m\u001b[43m \u001b[49m\u001b[43mi\u001b[49m\u001b[38;5;241;43m+\u001b[39;49m\u001b[38;5;241;43m1\u001b[39;49m\u001b[43m)\u001b[49m\n",
      "Cell \u001b[1;32mIn[15], line 16\u001b[0m, in \u001b[0;36minsert_actor_details\u001b[1;34m(genre, start_page, end_page)\u001b[0m\n\u001b[0;32m     13\u001b[0m sql_insert_query \u001b[38;5;241m=\u001b[39m \u001b[38;5;124m\"\"\"\u001b[39m\u001b[38;5;124m INSERT INTO actor_details (actor_name, birth_year, known_for, actor_role, actor_awards) VALUES (\u001b[39m\u001b[38;5;132;01m%s\u001b[39;00m\u001b[38;5;124m, \u001b[39m\u001b[38;5;132;01m%s\u001b[39;00m\u001b[38;5;124m, \u001b[39m\u001b[38;5;132;01m%s\u001b[39;00m\u001b[38;5;124m, \u001b[39m\u001b[38;5;132;01m%s\u001b[39;00m\u001b[38;5;124m, \u001b[39m\u001b[38;5;132;01m%s\u001b[39;00m\u001b[38;5;124m)\u001b[39m\u001b[38;5;124m\"\"\"\u001b[39m \u001b[38;5;66;03m# We enter only one column value. It is temporary until we update it.\u001b[39;00m\n\u001b[0;32m     15\u001b[0m \u001b[38;5;28;01mfor\u001b[39;00m _, row \u001b[38;5;129;01min\u001b[39;00m df\u001b[38;5;241m.\u001b[39miterrows():\n\u001b[1;32m---> 16\u001b[0m     mycursor\u001b[38;5;241m.\u001b[39mexecute(sql_insert_query, (row[\u001b[38;5;124m'\u001b[39m\u001b[38;5;124mactor_name\u001b[39m\u001b[38;5;124m'\u001b[39m],row[\u001b[38;5;124m'\u001b[39m\u001b[38;5;124mbirth_year\u001b[39m\u001b[38;5;124m'\u001b[39m],\u001b[43mrow\u001b[49m\u001b[43m[\u001b[49m\u001b[38;5;124;43m'\u001b[39;49m\u001b[38;5;124;43mknown_for\u001b[39;49m\u001b[38;5;124;43m'\u001b[39;49m\u001b[43m]\u001b[49m,row[\u001b[38;5;124m'\u001b[39m\u001b[38;5;124mactor_role\u001b[39m\u001b[38;5;124m'\u001b[39m],row[\u001b[38;5;124m'\u001b[39m\u001b[38;5;124mactor_awards\u001b[39m\u001b[38;5;124m'\u001b[39m])) \n\u001b[0;32m     18\u001b[0m cnx\u001b[38;5;241m.\u001b[39mcommit() \n\u001b[0;32m     19\u001b[0m \u001b[38;5;28mprint\u001b[39m(\u001b[38;5;124mf\u001b[39m\u001b[38;5;124m\"\u001b[39m\u001b[38;5;132;01m{\u001b[39;00mmycursor\u001b[38;5;241m.\u001b[39mrowcount\u001b[38;5;132;01m}\u001b[39;00m\u001b[38;5;124m registro(s) insertado(s)📝\u001b[39m\u001b[38;5;124m\"\u001b[39m) \n",
      "File \u001b[1;32m~\\AppData\\Local\\Packages\\PythonSoftwareFoundation.Python.3.11_qbz5n2kfra8p0\\LocalCache\\local-packages\\Python311\\site-packages\\pandas\\core\\series.py:1121\u001b[0m, in \u001b[0;36mSeries.__getitem__\u001b[1;34m(self, key)\u001b[0m\n\u001b[0;32m   1118\u001b[0m     \u001b[38;5;28;01mreturn\u001b[39;00m \u001b[38;5;28mself\u001b[39m\u001b[38;5;241m.\u001b[39m_values[key]\n\u001b[0;32m   1120\u001b[0m \u001b[38;5;28;01melif\u001b[39;00m key_is_scalar:\n\u001b[1;32m-> 1121\u001b[0m     \u001b[38;5;28;01mreturn\u001b[39;00m \u001b[38;5;28;43mself\u001b[39;49m\u001b[38;5;241;43m.\u001b[39;49m\u001b[43m_get_value\u001b[49m\u001b[43m(\u001b[49m\u001b[43mkey\u001b[49m\u001b[43m)\u001b[49m\n\u001b[0;32m   1123\u001b[0m \u001b[38;5;66;03m# Convert generator to list before going through hashable part\u001b[39;00m\n\u001b[0;32m   1124\u001b[0m \u001b[38;5;66;03m# (We will iterate through the generator there to check for slices)\u001b[39;00m\n\u001b[0;32m   1125\u001b[0m \u001b[38;5;28;01mif\u001b[39;00m is_iterator(key):\n",
      "File \u001b[1;32m~\\AppData\\Local\\Packages\\PythonSoftwareFoundation.Python.3.11_qbz5n2kfra8p0\\LocalCache\\local-packages\\Python311\\site-packages\\pandas\\core\\series.py:1237\u001b[0m, in \u001b[0;36mSeries._get_value\u001b[1;34m(self, label, takeable)\u001b[0m\n\u001b[0;32m   1234\u001b[0m     \u001b[38;5;28;01mreturn\u001b[39;00m \u001b[38;5;28mself\u001b[39m\u001b[38;5;241m.\u001b[39m_values[label]\n\u001b[0;32m   1236\u001b[0m \u001b[38;5;66;03m# Similar to Index.get_value, but we do not fall back to positional\u001b[39;00m\n\u001b[1;32m-> 1237\u001b[0m loc \u001b[38;5;241m=\u001b[39m \u001b[38;5;28;43mself\u001b[39;49m\u001b[38;5;241;43m.\u001b[39;49m\u001b[43mindex\u001b[49m\u001b[38;5;241;43m.\u001b[39;49m\u001b[43mget_loc\u001b[49m\u001b[43m(\u001b[49m\u001b[43mlabel\u001b[49m\u001b[43m)\u001b[49m\n\u001b[0;32m   1239\u001b[0m \u001b[38;5;28;01mif\u001b[39;00m is_integer(loc):\n\u001b[0;32m   1240\u001b[0m     \u001b[38;5;28;01mreturn\u001b[39;00m \u001b[38;5;28mself\u001b[39m\u001b[38;5;241m.\u001b[39m_values[loc]\n",
      "File \u001b[1;32m~\\AppData\\Local\\Packages\\PythonSoftwareFoundation.Python.3.11_qbz5n2kfra8p0\\LocalCache\\local-packages\\Python311\\site-packages\\pandas\\core\\indexes\\base.py:3812\u001b[0m, in \u001b[0;36mIndex.get_loc\u001b[1;34m(self, key)\u001b[0m\n\u001b[0;32m   3807\u001b[0m     \u001b[38;5;28;01mif\u001b[39;00m \u001b[38;5;28misinstance\u001b[39m(casted_key, \u001b[38;5;28mslice\u001b[39m) \u001b[38;5;129;01mor\u001b[39;00m (\n\u001b[0;32m   3808\u001b[0m         \u001b[38;5;28misinstance\u001b[39m(casted_key, abc\u001b[38;5;241m.\u001b[39mIterable)\n\u001b[0;32m   3809\u001b[0m         \u001b[38;5;129;01mand\u001b[39;00m \u001b[38;5;28many\u001b[39m(\u001b[38;5;28misinstance\u001b[39m(x, \u001b[38;5;28mslice\u001b[39m) \u001b[38;5;28;01mfor\u001b[39;00m x \u001b[38;5;129;01min\u001b[39;00m casted_key)\n\u001b[0;32m   3810\u001b[0m     ):\n\u001b[0;32m   3811\u001b[0m         \u001b[38;5;28;01mraise\u001b[39;00m InvalidIndexError(key)\n\u001b[1;32m-> 3812\u001b[0m     \u001b[38;5;28;01mraise\u001b[39;00m \u001b[38;5;167;01mKeyError\u001b[39;00m(key) \u001b[38;5;28;01mfrom\u001b[39;00m \u001b[38;5;21;01merr\u001b[39;00m\n\u001b[0;32m   3813\u001b[0m \u001b[38;5;28;01mexcept\u001b[39;00m \u001b[38;5;167;01mTypeError\u001b[39;00m:\n\u001b[0;32m   3814\u001b[0m     \u001b[38;5;66;03m# If we have a listlike key, _check_indexing_error will raise\u001b[39;00m\n\u001b[0;32m   3815\u001b[0m     \u001b[38;5;66;03m#  InvalidIndexError. Otherwise we fall through and re-raise\u001b[39;00m\n\u001b[0;32m   3816\u001b[0m     \u001b[38;5;66;03m#  the TypeError.\u001b[39;00m\n\u001b[0;32m   3817\u001b[0m     \u001b[38;5;28mself\u001b[39m\u001b[38;5;241m.\u001b[39m_check_indexing_error(key)\n",
      "\u001b[1;31mKeyError\u001b[0m: 'known_for'"
     ]
    }
   ],
   "source": [
    "# call the insert function for the oscars table\n",
    "genre = 'action'\n",
    "start_page = 1\n",
    "end_page = 5\n",
    "\n",
    "for i in range(start_page, end_page):\n",
    "    print(f\"Iteracion {i}\")\n",
    "    insert_actor_details(genre, i, i+1)\n",
    "    "
   ]
  },
  {
   "cell_type": "code",
   "execution_count": 17,
   "metadata": {},
   "outputs": [],
   "source": [
    "# Function to insert the data from 'actor_awards.csv' into the 'actor_awards' table. \n",
    "# It will not work if we don't have data in the 'actor_details' table.\n",
    "def insert_actor_awards():\n",
    "    cnx = mysql.connector.connect(user='root', password='AlumnaAdalab', host='127.0.0.1', database='cinem_extract')\n",
    "\n",
    "    mycursor = cnx.cursor()\n",
    "\n",
    "    try: \n",
    "        df = pd.read_csv('data/oscars/actor_awards.csv')\n",
    "    \n",
    "        sql_insert_query = \"\"\" INSERT INTO actor_awards (actor_name, ceremony_year, award_type) VALUES (%s, %s, %s)\"\"\"\n",
    "\n",
    "        for _, row in df.iterrows():\n",
    "            mycursor.execute(sql_insert_query, (row['actor_name'], row['ceremony_year'], row['award_type'])) \n",
    "\n",
    "        cnx.commit() \n",
    "        print(f\"{mycursor.rowcount} registro(s) insertado(s)📝\") \n",
    "\n",
    "    except mysql.connector.Error as err: \n",
    "        print(f\"Error al insertar en la base de datos: {err} ❌\") \n",
    "\n",
    "    finally: \n",
    "        if cnx.is_connected(): \n",
    "            mycursor.close() \n",
    "            cnx.close() \n",
    "            print(\"Conexión a la base de datos cerrada🔚\")"
   ]
  },
  {
   "cell_type": "code",
   "execution_count": 18,
   "metadata": {},
   "outputs": [
    {
     "name": "stdout",
     "output_type": "stream",
     "text": [
      "1 registro(s) insertado(s)📝\n",
      "Conexión a la base de datos cerrada🔚\n"
     ]
    }
   ],
   "source": [
    "# call the insert function for the oscars table\n",
    "insert_actor_awards()"
   ]
  },
  {
   "cell_type": "code",
   "execution_count": null,
   "metadata": {},
   "outputs": [],
   "source": [
    "# insert data into relation_movie_oscars\n",
    "\n",
    "def insert_relation_movie_oscars():\n",
    "    # Connection\n",
    "    cnx = mysql.connector.connect(user='root', password='AlumnaAdalab', host='127.0.0.1', database='cinem_extract')\n",
    "\n",
    "    # Cursor creation\n",
    "    mycursor = cnx.cursor()\n",
    "\n",
    "    try: \n",
    "        # Read CSV file\n",
    "        df = pd.read_csv('data/oscars/relation_movie_oscars.csv')\n",
    "\n",
    "        # SQL to insert data. You must indicate the name of the columns in the first parenthesis and in values enter the number of columns with %s\n",
    "        sql_insert_query = \"\"\" INSERT INTO relation_movie_oscars (id_imdb, best_movie, ceremony_year) VALUES (%s, %s, %s)\"\"\"\n",
    "\n",
    "        # Iterate over each row of the DataFrame and insert the data for each column.\n",
    "        for _, row in df.iterrows():\n",
    "            mycursor.execute(sql_insert_query, (row['id_imdb'], row['best_movie'], row['ceremony_year'])) \n",
    "\n",
    "        # Confirm changes with commit\n",
    "        cnx.commit() \n",
    "        print(f\"{mycursor.rowcount} registro(s) insertado(s)📝\")\n",
    "\n",
    "    except mysql.connector.Error as err:\n",
    "        print(f\"Error al insertar en la base de datos: {err} ❌\") \n",
    "\n",
    "    finally: \n",
    "        if cnx.is_connected(): \n",
    "            mycursor.close() \n",
    "            cnx.close() \n",
    "            print(\"Conexión a la base de datos cerrada🔚\")\n"
   ]
  },
  {
   "cell_type": "code",
   "execution_count": null,
   "metadata": {},
   "outputs": [],
   "source": [
    "# call the insert function for relation_movie_oscars\n",
    "\n",
    "insert_relation_movie_oscars()"
   ]
  }
 ],
 "metadata": {
  "kernelspec": {
   "display_name": "base",
   "language": "python",
   "name": "python3"
  },
  "language_info": {
   "codemirror_mode": {
    "name": "ipython",
    "version": 3
   },
   "file_extension": ".py",
   "mimetype": "text/x-python",
   "name": "python",
   "nbconvert_exporter": "python",
   "pygments_lexer": "ipython3",
   "version": "3.11.9"
  }
 },
 "nbformat": 4,
 "nbformat_minor": 2
}
