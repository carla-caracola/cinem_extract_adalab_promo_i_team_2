{
 "cells": [
  {
   "cell_type": "code",
   "execution_count": 1,
   "metadata": {},
   "outputs": [],
   "source": [
    "import mysql.connector\n",
    "from mysql.connector import errorcode\n",
    "import pandas as pd\n",
    "import numpy as np"
   ]
  },
  {
   "cell_type": "code",
   "execution_count": 2,
   "metadata": {},
   "outputs": [],
   "source": [
    "# Function to insert 'list_oscars_BS' into the 'oscars' table.\n",
    "def insert_oscars():\n",
    "    # Connection\n",
    "    cnx = mysql.connector.connect(user='root', password='AlumnaAdalab', host='127.0.0.1', database='cinem_extract')\n",
    "\n",
    "    # Cursor creation\n",
    "    mycursor = cnx.cursor()\n",
    "\n",
    "    try: \n",
    "        # Read CSV file\n",
    "        df = pd.read_csv('data/oscars/list_oscars_BS.csv') \n",
    "\n",
    "        # SQL to insert data. You must indicate the name of the columns in the first parenthesis and in values enter the number of columns with %s\n",
    "        sql_insert_query = \"\"\" INSERT INTO oscars (ceremony_year, best_movie, best_director, best_actor, best_actress) VALUES (%s, %s, %s, %s, %s)\"\"\"\n",
    "\n",
    "        # Iterate over each row of the DataFrame and insert the data for each column.\n",
    "        for _, row in df.iterrows():\n",
    "            mycursor.execute(sql_insert_query, (row['ceremony_year'], row['best_movie'], row['best_director'], row['best_actor'], row['best_actress'])) \n",
    "\n",
    "        # Confirm changes with commit\n",
    "        cnx.commit() \n",
    "        print(f\"{mycursor.rowcount} registro(s) insertado(s)📝\") \n",
    "\n",
    "    except mysql.connector.Error as err: \n",
    "        print(f\"Error al insertar en la base de datos: {err} ❌\") \n",
    "\n",
    "    finally: \n",
    "        if cnx.is_connected(): \n",
    "            mycursor.close() \n",
    "            cnx.close() \n",
    "            print(\"Conexión a la base de datos cerrada🔚\")"
   ]
  },
  {
   "cell_type": "code",
   "execution_count": 14,
   "metadata": {},
   "outputs": [
    {
     "name": "stdout",
     "output_type": "stream",
     "text": [
      "1 registro(s) insertado(s)📝\n",
      "Conexión a la base de datos cerrada🔚\n"
     ]
    }
   ],
   "source": [
    "# call the insert function for the oscars table\n",
    "insert_oscars()"
   ]
  },
  {
   "cell_type": "code",
   "execution_count": 6,
   "metadata": {},
   "outputs": [],
   "source": [
    "# Here we create the function to insert the data from 'actor_details_oscar_only.csv' into the 'actor_details' table.\n",
    "# IMPORTANT: it must be inserted before the 'actor_awards' table because to create its connections it needs to be already in the 'actor_awards' table.\n",
    "# So we have introduced the concrete data of their names to allow us the second insertion BUT we will have to update them with the new data when we finish extracting them in SELENIUM.\n",
    "\n",
    "def insert_actor_details():\n",
    "    cnx = mysql.connector.connect(user='root', password='AlumnaAdalab', host='127.0.0.1', database='cinem_extract')\n",
    "\n",
    "    mycursor = cnx.cursor()\n",
    "\n",
    "    try: \n",
    "        df = pd.read_csv('data/selenium_actors/list_oscars_range_1_2_sel_actor.csv') # The CSV has an 'only' to distinguish temporary data.\n",
    "\n",
    "        sql_insert_query = \"\"\" INSERT INTO actor_details (actor_name, birth_year, known_for, actor_role, actor_awards) VALUES (%s, %s, %s, %s, %s)\"\"\" # We enter only one column value. It is temporary until we update it.\n",
    "\n",
    "        for _, row in df.iterrows():\n",
    "            mycursor.execute(sql_insert_query, (row['actor_name'],row['birth_year'],row['known_for'],row['actor_role'],row['actor_awards'])) \n",
    "\n",
    "        cnx.commit() \n",
    "        print(f\"{mycursor.rowcount} registro(s) insertado(s)📝\") \n",
    "\n",
    "    except mysql.connector.Error as err: \n",
    "        print(f\"Error al insertar en la base de datos: {err} ❌\") \n",
    "\n",
    "    finally: \n",
    "        if cnx.is_connected(): \n",
    "            mycursor.close() \n",
    "            cnx.close() \n",
    "            print(\"Conexión a la base de datos cerrada🔚\")"
   ]
  },
  {
   "cell_type": "code",
   "execution_count": 7,
   "metadata": {},
   "outputs": [
    {
     "name": "stdout",
     "output_type": "stream",
     "text": [
      "Error al insertar en la base de datos: 1054 (42S22): Unknown column 'nan' in 'field list' ❌\n",
      "Conexión a la base de datos cerrada🔚\n"
     ]
    }
   ],
   "source": [
    "# call the insert function for the oscars table\n",
    "insert_actor_details()"
   ]
  },
  {
   "cell_type": "code",
   "execution_count": 17,
   "metadata": {},
   "outputs": [],
   "source": [
    "# Function to insert the data from 'actor_awards.csv' into the 'actor_awards' table. \n",
    "# It will not work if we don't have data in the 'actor_details' table.\n",
    "def insert_actor_awards():\n",
    "    cnx = mysql.connector.connect(user='root', password='AlumnaAdalab', host='127.0.0.1', database='cinem_extract')\n",
    "\n",
    "    mycursor = cnx.cursor()\n",
    "\n",
    "    try: \n",
    "        df = pd.read_csv('data/oscars/actor_awards.csv')\n",
    "    \n",
    "        sql_insert_query = \"\"\" INSERT INTO actor_awards (actor_name, ceremony_year, award_type) VALUES (%s, %s, %s)\"\"\"\n",
    "\n",
    "        for _, row in df.iterrows():\n",
    "            mycursor.execute(sql_insert_query, (row['actor_name'], row['ceremony_year'], row['award_type'])) \n",
    "\n",
    "        cnx.commit() \n",
    "        print(f\"{mycursor.rowcount} registro(s) insertado(s)📝\") \n",
    "\n",
    "    except mysql.connector.Error as err: \n",
    "        print(f\"Error al insertar en la base de datos: {err} ❌\") \n",
    "\n",
    "    finally: \n",
    "        if cnx.is_connected(): \n",
    "            mycursor.close() \n",
    "            cnx.close() \n",
    "            print(\"Conexión a la base de datos cerrada🔚\")"
   ]
  },
  {
   "cell_type": "code",
   "execution_count": 18,
   "metadata": {},
   "outputs": [
    {
     "name": "stdout",
     "output_type": "stream",
     "text": [
      "1 registro(s) insertado(s)📝\n",
      "Conexión a la base de datos cerrada🔚\n"
     ]
    }
   ],
   "source": [
    "# call the insert function for the oscars table\n",
    "insert_actor_awards()"
   ]
  }
 ],
 "metadata": {
  "kernelspec": {
   "display_name": "base",
   "language": "python",
   "name": "python3"
  },
  "language_info": {
   "codemirror_mode": {
    "name": "ipython",
    "version": 3
   },
   "file_extension": ".py",
   "mimetype": "text/x-python",
   "name": "python",
   "nbconvert_exporter": "python",
   "pygments_lexer": "ipython3",
   "version": "3.11.7"
  }
 },
 "nbformat": 4,
 "nbformat_minor": 2
}
