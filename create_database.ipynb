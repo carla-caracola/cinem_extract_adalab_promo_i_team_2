{
 "cells": [
  {
   "cell_type": "code",
   "execution_count": 1,
   "metadata": {},
   "outputs": [],
   "source": [
    "import mysql.connector\n",
    "from mysql.connector import errorcode\n",
    "import pandas as pd\n",
    "import numpy as np"
   ]
  },
  {
   "cell_type": "code",
   "execution_count": 2,
   "metadata": {},
   "outputs": [
    {
     "name": "stdout",
     "output_type": "stream",
     "text": [
      "CMySQLCursor: CREATE DATABASE cinem_extract\n"
     ]
    }
   ],
   "source": [
    "cnx = mysql.connector.connect(user='root', password='AlumnaAdalab',\n",
    "                              host='127.0.0.1')\n",
    "mycursor = cnx.cursor()\n",
    "\n",
    "try:\n",
    "    mycursor.execute(\"CREATE DATABASE cinem_extract\") # creamos bdd\n",
    "    print(mycursor)\n",
    "except mysql.connector.Error as err:\n",
    "    print(err)\n",
    "    print(\"Error Code:\", err.errno)\n",
    "    print(\"SQLSTATE\", err.sqlstate)\n",
    "    print(\"Message\", err.msg)"
   ]
  },
  {
   "cell_type": "code",
   "execution_count": 7,
   "metadata": {},
   "outputs": [
    {
     "name": "stdout",
     "output_type": "stream",
     "text": [
      "CMySQLCursor: CREATE TABLE movies(\n",
      "                   ..\n",
      "Tabla creada\n"
     ]
    }
   ],
   "source": [
    "cnx = mysql.connector.connect(user='root', password='AlumnaAdalab', host='127.0.0.1', database='cinem_extract')\n",
    "\n",
    "mycursor = cnx.cursor()\n",
    "\n",
    "# creamos tabla movies\n",
    "query = \"\"\"CREATE TABLE movies(\n",
    "                        id_imdb VARCHAR(45) NOT NULL, \n",
    "                        type VARCHAR(45), \n",
    "                        name VARCHAR(45), \n",
    "                        release_year YEAR,\n",
    "                        release_month SMALLINT,\n",
    "                        genre SMALLINT,\n",
    "                        PRIMARY KEY (id_imdb)\n",
    "                        );\"\"\"\n",
    "try:\n",
    "    mycursor.execute(query) \n",
    "    print(mycursor)\n",
    "    print(\"Tabla creada\")\n",
    "except mysql.connector.Error as err:\n",
    "    print(err)\n",
    "    print(\"Error Code:\", err.errno)\n",
    "    print(\"SQLSTATE\", err.sqlstate)\n",
    "    print(\"Message\", err.msg)"
   ]
  },
  {
   "cell_type": "code",
   "execution_count": 8,
   "metadata": {},
   "outputs": [
    {
     "name": "stdout",
     "output_type": "stream",
     "text": [
      "CMySQLCursor: CREATE TABLE movies_details(\n",
      "           ..\n",
      "Tabla creada\n"
     ]
    }
   ],
   "source": [
    "query_table_movies_details = \"\"\"CREATE TABLE movies_details(\n",
    "                                id_imdb VARCHAR(45) NOT NULL, \n",
    "                                score_imdb FLOAT, \n",
    "                                score_rt INT, \n",
    "                                director_imdb VARCHAR(45),\n",
    "                                screenwriters_imdb VARCHAR(45),\n",
    "                                plot_rt VARCHAR(255),\n",
    "                                duration_imdb INT,\n",
    "                                title_imdb VARCHAR(100),\n",
    "                                PRIMARY KEY (id_imdb)\n",
    "                                );\"\"\"\n",
    "try:\n",
    "    mycursor.execute(query_table_movies_details) \n",
    "    print(mycursor)\n",
    "    print(\"Tabla creada\")\n",
    "except mysql.connector.Error as err:\n",
    "    print(err)\n",
    "    print(\"Error Code:\", err.errno)\n",
    "    print(\"SQLSTATE\", err.sqlstate)\n",
    "    print(\"Message\", err.msg)"
   ]
  },
  {
   "cell_type": "code",
   "execution_count": 10,
   "metadata": {},
   "outputs": [
    {
     "name": "stdout",
     "output_type": "stream",
     "text": [
      "CMySQLCursor: CREATE TABLE oscars(\n",
      "                   ..\n",
      "Tabla creada\n"
     ]
    }
   ],
   "source": [
    "query_table_oscars = \"\"\"CREATE TABLE oscars(\n",
    "                        ceremony_year YEAR NOT NULL, \n",
    "                        best_movie VARCHAR(100), \n",
    "                        best_director VARCHAR(45), \n",
    "                        best_actor VARCHAR(45),\n",
    "                        best_actress VARCHAR(45),\n",
    "                        PRIMARY KEY (ceremony_year)\n",
    "                        );\"\"\"\n",
    "try:\n",
    "    mycursor.execute(query_table_oscars) \n",
    "    print(mycursor)\n",
    "    print(\"Tabla creada\")\n",
    "except mysql.connector.Error as err:\n",
    "    print(err)\n",
    "    print(\"Error Code:\", err.errno)\n",
    "    print(\"SQLSTATE\", err.sqlstate)\n",
    "    print(\"Message\", err.msg)"
   ]
  },
  {
   "cell_type": "code",
   "execution_count": null,
   "metadata": {},
   "outputs": [],
   "source": [
    "def create_table():\n",
    "    query_table_oscars = \"\"\"CREATE TABLE oscars(\n",
    "                        ceremony_year YEAR NOT NULL, \n",
    "                        best_movie VARCHAR(100), \n",
    "                        best_director VARCHAR(45), \n",
    "                        best_actor VARCHAR(45),\n",
    "                        best_actress VARCHAR(45),\n",
    "                        PRIMARY KEY (ceremony_year)\n",
    "                        );\"\"\"\n",
    "try:\n",
    "    mycursor.execute(query_table_oscars) \n",
    "    print(mycursor)\n",
    "    print(\"Tabla creada\")\n",
    "except mysql.connector.Error as err:\n",
    "    print(err)\n",
    "    print(\"Error Code:\", err.errno)\n",
    "    print(\"SQLSTATE\", err.sqlstate)\n",
    "    print(\"Message\", err.msg)"
   ]
  }
 ],
 "metadata": {
  "kernelspec": {
   "display_name": "base",
   "language": "python",
   "name": "python3"
  },
  "language_info": {
   "codemirror_mode": {
    "name": "ipython",
    "version": 3
   },
   "file_extension": ".py",
   "mimetype": "text/x-python",
   "name": "python",
   "nbconvert_exporter": "python",
   "pygments_lexer": "ipython3",
   "version": "3.11.7"
  }
 },
 "nbformat": 4,
 "nbformat_minor": 2
}
